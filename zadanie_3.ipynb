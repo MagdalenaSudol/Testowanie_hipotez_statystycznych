{
 "cells": [
  {
   "cell_type": "markdown",
   "metadata": {},
   "source": [
    "# Zadanie 3"
   ]
  },
  {
   "cell_type": "code",
   "execution_count": 19,
   "metadata": {},
   "outputs": [],
   "source": [
    "import numpy as np\n",
    "import scipy.stats \n",
    "import seaborn as sns\n",
    "import matplotlib.pyplot as plt"
   ]
  },
  {
   "cell_type": "markdown",
   "metadata": {},
   "source": [
    "Dla każdej z hipotez z zadań 1-2 wyznacz symulacyjnie prawdopodobieństwa popełnienia błędów I i II rodzaju. Sprawdź moce testów."
   ]
  },
  {
   "cell_type": "code",
   "execution_count": 70,
   "metadata": {},
   "outputs": [],
   "source": [
    "alpha = 0.05\n",
    "n = 1000\n",
    "N = 1000 #liczba powtórzeń symulacji"
   ]
  },
  {
   "cell_type": "markdown",
   "metadata": {},
   "source": [
    "## Analiza błędów I i II rodzaju dla zadania 2"
   ]
  },
  {
   "cell_type": "markdown",
   "metadata": {},
   "source": [
    "### Boxploty błędów I rodzaju dla każdej z hipotez"
   ]
  },
  {
   "cell_type": "code",
   "execution_count": null,
   "metadata": {},
   "outputs": [],
   "source": [
    "#przypadek 1\n",
    "results1 = np.zeros(100)\n",
    "\n",
    "for M in range(100):\n",
    "    critical_values = 0\n",
    "    for i in range(N):\n",
    "        x = np.random.normal(0.2, np.sqrt(1.5), n)\n",
    "        #statystyka testowa\n",
    "        s = np.var(x, ddof=0)\n",
    "        chi2 = (n-1)*s/1.5\n",
    "        #sprawdzenie, czy należy do obszaru krytycznego \n",
    "        if chi2 < scipy.stats.chi2.ppf(alpha/2, n-1) or chi2 > scipy.stats.chi2.ppf(1-alpha/2, n-1):\n",
    "            critical_values += 1\n",
    "    \n",
    "    results1[M] += critical_values/N"
   ]
  },
  {
   "cell_type": "code",
   "execution_count": null,
   "metadata": {},
   "outputs": [],
   "source": [
    "#przypadek 2\n",
    "\n",
    "results2 = np.zeros(100)\n",
    "\n",
    "for M in range(100):\n",
    "    critical_values = 0\n",
    "    for i in range(N):\n",
    "        x = np.random.normal(0.2, np.sqrt(1.5), n)\n",
    "        #statystyka testowa\n",
    "        s = np.var(x, ddof=0)\n",
    "        chi2 = (n-1)*s/1.5\n",
    "        #sprawdzenie, czy należy do obszaru krytycznego \n",
    "        if chi2 > scipy.stats.chi2.ppf(1-alpha, n-1):\n",
    "            critical_values += 1\n",
    "    \n",
    "    results2[M] += critical_values/N"
   ]
  },
  {
   "cell_type": "code",
   "execution_count": null,
   "metadata": {},
   "outputs": [],
   "source": [
    "#przypadek 3 \n",
    "\n",
    "results3 = np.zeros(100)\n",
    "for M in range(100):\n",
    "    critical_values = 0\n",
    "    for i in range(N):\n",
    "        x = np.random.normal(0.2, np.sqrt(1.5), n)\n",
    "        #statystyka testowa\n",
    "        s = np.var(x, ddof=0)\n",
    "        chi2 = (n-1)*s/1.5\n",
    "        #sprawdzenie, czy należy do obszaru krytycznego \n",
    "        if chi2 < scipy.stats.chi2.ppf(alpha, n-1):\n",
    "            critical_values += 1\n",
    "    \n",
    "    results3[M] += critical_values/N"
   ]
  },
  {
   "cell_type": "code",
   "execution_count": 79,
   "metadata": {},
   "outputs": [
    {
     "data": {
      "image/png": "[encoded data removed]",
      "text/plain": [
       "<Figure size 640x480 with 1 Axes>"
      ]
     },
     "metadata": {},
     "output_type": "display_data"
    }
   ],
   "source": [
    "plt.boxplot([results1, results2, results3], labels = (f'$H_1: \\\\sigma^2 \\\\neq 1.5$',  f'$H_1: \\\\sigma^2 > 1.5$', f'$H_1: \\\\sigma^2 < 1.5$'))\n",
    "plt.title(\"Błąd pierwszego rodzaju dla różnych hipotez alternatywnych\")\n",
    "plt.savefig(\"boxplot_bledy_1_rodzaju_wariancja.png\")"
   ]
  },
  {
   "cell_type": "markdown",
   "metadata": {},
   "source": [
    "### Błędy drugiego rodzaju:"
   ]
  },
  {
   "cell_type": "code",
   "execution_count": null,
   "metadata": {},
   "outputs": [],
   "source": [
    "mu = 0.2"
   ]
  },
  {
   "cell_type": "code",
   "execution_count": null,
   "metadata": {},
   "outputs": [
    {
     "name": "stdout",
     "output_type": "stream",
     "text": [
      "[0.068, 0.066, 0.045, 0.059, 0.068, 0.076]\n",
      "[0.932 0.934 0.955 0.941 0.932 0.924]\n"
     ]
    }
   ],
   "source": [
    "#hipoteza 1\n",
    "sigma1 = [1.47, 1.48, 1.49, 1.51, 1.52, 1.53]\n",
    "results1 = []\n",
    "for s in sigma1:\n",
    "    critical_values = 0\n",
    "    for i in range(N):\n",
    "        x = np.random.normal(mu, np.sqrt(s), n)\n",
    "        s2 = np.var(x, ddof=0)\n",
    "        chi2 = (n-1)*s2/1.5\n",
    "        if (scipy.stats.chi2.ppf(1 - alpha/2, n-1) < chi2) or (scipy.stats.chi2.ppf(alpha/2, n-1) > chi2):\n",
    "            critical_values += 1\n",
    "    error = critical_values/N\n",
    "    results1.append(error)\n",
    "    \n",
    "print(results1)\n",
    "print(1-np.array(results1))"
   ]
  },
  {
   "cell_type": "code",
   "execution_count": null,
   "metadata": {},
   "outputs": [
    {
     "name": "stdout",
     "output_type": "stream",
     "text": [
      "[0.048, 0.063, 0.067]\n",
      "[0.952 0.937 0.933]\n"
     ]
    }
   ],
   "source": [
    "#hipoteza 2\n",
    "sigma2 = [1.51, 1.52, 1.53]\n",
    "results2 = []\n",
    "for s in sigma2:\n",
    "    critical_values = 0\n",
    "    for i in range(N):\n",
    "        x = np.random.normal(mu, np.sqrt(s), n)\n",
    "        s2 = np.var(x, ddof=0)\n",
    "        chi2 = (n-1)*s2/1.5\n",
    "        if scipy.stats.chi2.ppf(1 - alpha, n-1) < chi2:\n",
    "            critical_values += 1\n",
    "    error = critical_values/N\n",
    "    results2.append(error)\n",
    "    \n",
    "print(results2)\n",
    "print(1-np.array(results2))"
   ]
  },
  {
   "cell_type": "code",
   "execution_count": null,
   "metadata": {},
   "outputs": [
    {
     "name": "stdout",
     "output_type": "stream",
     "text": [
      "[0.071, 0.052, 0.047]\n",
      "[0.929 0.948 0.953]\n"
     ]
    }
   ],
   "source": [
    "#hipoteza 3\n",
    "sigma3 = [1.47, 1.48, 1.49]\n",
    "results3 = []\n",
    "for s in sigma3:\n",
    "    critical_values = 0\n",
    "    for i in range(N):\n",
    "        x = np.random.normal(mu, np.sqrt(s), n)\n",
    "        s2 = np.var(x, ddof=0)\n",
    "        chi2 = (n-1)*s2/1.5\n",
    "        if scipy.stats.chi2.ppf(alpha, n-1) > chi2:\n",
    "            critical_values += 1\n",
    "    error = critical_values/N\n",
    "    results3.append(error)\n",
    "    \n",
    "print(results3)\n",
    "print(1-np.array(results3))"
   ]
  },
  {
   "cell_type": "markdown",
   "metadata": {},
   "source": [
    "Dla zadania 1 korzystamy z analogicznych algorytmów, wykorzystując statystykę Z zamiast statystyki $\\chi^2$ oraz obliczając kwantyle rozkładu normalnego za pomocą funkcji scipy.stats.norm.ppf."
   ]
  }
 ],
 "metadata": {
  "kernelspec": {
   "display_name": "Python 3",
   "language": "python",
   "name": "python3"
  },
  "language_info": {
   "codemirror_mode": {
    "name": "ipython",
    "version": 3
   },
   "file_extension": ".py",
   "mimetype": "text/x-python",
   "name": "python",
   "nbconvert_exporter": "python",
   "pygments_lexer": "ipython3",
   "version": "3.12.1"
  }
 },
 "nbformat": 4,
 "nbformat_minor": 2
}
